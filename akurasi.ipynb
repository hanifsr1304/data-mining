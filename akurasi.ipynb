{
  "nbformat": 4,
  "nbformat_minor": 0,
  "metadata": {
    "colab": {
      "provenance": [],
      "authorship_tag": "ABX9TyPf/8et5lXzpzvw5ZR/seOw",
      "include_colab_link": true
    },
    "kernelspec": {
      "name": "python3",
      "display_name": "Python 3"
    },
    "language_info": {
      "name": "python"
    }
  },
  "cells": [
    {
      "cell_type": "markdown",
      "metadata": {
        "id": "view-in-github",
        "colab_type": "text"
      },
      "source": [
        "<a href=\"https://colab.research.google.com/github/hanifsr1304/data-mining/blob/main/akurasi.ipynb\" target=\"_parent\"><img src=\"https://colab.research.google.com/assets/colab-badge.svg\" alt=\"Open In Colab\"/></a>"
      ]
    },
    {
      "cell_type": "code",
      "execution_count": 1,
      "metadata": {
        "id": "KPp1d-3wv6Op"
      },
      "outputs": [],
      "source": [
        "import pandas as pd"
      ]
    },
    {
      "cell_type": "code",
      "source": [
        "path_dataset =\"/content/creditapproval.csv\""
      ],
      "metadata": {
        "id": "ZzVGZRDnwJbt"
      },
      "execution_count": 2,
      "outputs": []
    },
    {
      "cell_type": "code",
      "source": [
        "df=pd.read_csv(path_dataset)"
      ],
      "metadata": {
        "id": "kGYEFbvswS47"
      },
      "execution_count": 3,
      "outputs": []
    },
    {
      "cell_type": "code",
      "source": [
        "df.head()"
      ],
      "metadata": {
        "colab": {
          "base_uri": "https://localhost:8080/",
          "height": 287
        },
        "id": "PFhYddSsweaX",
        "outputId": "942c9270-cd6a-46b4-e86f-2936c3d88622"
      },
      "execution_count": 4,
      "outputs": [
        {
          "output_type": "execute_result",
          "data": {
            "text/plain": [
              "  nama_nasabah jenis_kelamin  umur  jml_pinjaman  jkw  jml_angsuran_per_bulan  \\\n",
              "0           x1             P  40.0      345000.0    1               345000.00   \n",
              "1           x2             L  31.0      350000.0    7                55716.00   \n",
              "2           x3             L  37.0      649926.0    6               108321.00   \n",
              "3           x4             P   2.0      459168.0   12                38264.00   \n",
              "4           x5             P  34.0     3055499.0    8               381937.41   \n",
              "\n",
              "   type_pinjaman  jenis_pinjaman  bi_sektor_ekonomi  col  bi_golongan_debitur  \\\n",
              "0            100             301             6000.0    1                  874   \n",
              "1            100             301             6000.0    1                  874   \n",
              "2            100             301             6000.0    1                  874   \n",
              "3            100             301             6000.0    1                  874   \n",
              "4            100             301             6000.0    1                  874   \n",
              "\n",
              "   bi_gol_penjamin  saldo_nominatif  tunggakan_pokok  tunggakan_bunga  \\\n",
              "0              875         345000.0        345000.00              0.0   \n",
              "1              875         390000.0        111428.00              0.0   \n",
              "2              875         649926.0        216642.00              0.0   \n",
              "3              875         459168.0        382640.00              0.0   \n",
              "4              875        3055499.0       1527749.48              0.0   \n",
              "\n",
              "  status kredit  \n",
              "0         MACET  \n",
              "1         MACET  \n",
              "2         MACET  \n",
              "3         MACET  \n",
              "4         MACET  "
            ],
            "text/html": [
              "\n",
              "  <div id=\"df-7e35a5ae-bff6-40d5-8890-56fb6bd5a4ff\">\n",
              "    <div class=\"colab-df-container\">\n",
              "      <div>\n",
              "<style scoped>\n",
              "    .dataframe tbody tr th:only-of-type {\n",
              "        vertical-align: middle;\n",
              "    }\n",
              "\n",
              "    .dataframe tbody tr th {\n",
              "        vertical-align: top;\n",
              "    }\n",
              "\n",
              "    .dataframe thead th {\n",
              "        text-align: right;\n",
              "    }\n",
              "</style>\n",
              "<table border=\"1\" class=\"dataframe\">\n",
              "  <thead>\n",
              "    <tr style=\"text-align: right;\">\n",
              "      <th></th>\n",
              "      <th>nama_nasabah</th>\n",
              "      <th>jenis_kelamin</th>\n",
              "      <th>umur</th>\n",
              "      <th>jml_pinjaman</th>\n",
              "      <th>jkw</th>\n",
              "      <th>jml_angsuran_per_bulan</th>\n",
              "      <th>type_pinjaman</th>\n",
              "      <th>jenis_pinjaman</th>\n",
              "      <th>bi_sektor_ekonomi</th>\n",
              "      <th>col</th>\n",
              "      <th>bi_golongan_debitur</th>\n",
              "      <th>bi_gol_penjamin</th>\n",
              "      <th>saldo_nominatif</th>\n",
              "      <th>tunggakan_pokok</th>\n",
              "      <th>tunggakan_bunga</th>\n",
              "      <th>status kredit</th>\n",
              "    </tr>\n",
              "  </thead>\n",
              "  <tbody>\n",
              "    <tr>\n",
              "      <th>0</th>\n",
              "      <td>x1</td>\n",
              "      <td>P</td>\n",
              "      <td>40.0</td>\n",
              "      <td>345000.0</td>\n",
              "      <td>1</td>\n",
              "      <td>345000.00</td>\n",
              "      <td>100</td>\n",
              "      <td>301</td>\n",
              "      <td>6000.0</td>\n",
              "      <td>1</td>\n",
              "      <td>874</td>\n",
              "      <td>875</td>\n",
              "      <td>345000.0</td>\n",
              "      <td>345000.00</td>\n",
              "      <td>0.0</td>\n",
              "      <td>MACET</td>\n",
              "    </tr>\n",
              "    <tr>\n",
              "      <th>1</th>\n",
              "      <td>x2</td>\n",
              "      <td>L</td>\n",
              "      <td>31.0</td>\n",
              "      <td>350000.0</td>\n",
              "      <td>7</td>\n",
              "      <td>55716.00</td>\n",
              "      <td>100</td>\n",
              "      <td>301</td>\n",
              "      <td>6000.0</td>\n",
              "      <td>1</td>\n",
              "      <td>874</td>\n",
              "      <td>875</td>\n",
              "      <td>390000.0</td>\n",
              "      <td>111428.00</td>\n",
              "      <td>0.0</td>\n",
              "      <td>MACET</td>\n",
              "    </tr>\n",
              "    <tr>\n",
              "      <th>2</th>\n",
              "      <td>x3</td>\n",
              "      <td>L</td>\n",
              "      <td>37.0</td>\n",
              "      <td>649926.0</td>\n",
              "      <td>6</td>\n",
              "      <td>108321.00</td>\n",
              "      <td>100</td>\n",
              "      <td>301</td>\n",
              "      <td>6000.0</td>\n",
              "      <td>1</td>\n",
              "      <td>874</td>\n",
              "      <td>875</td>\n",
              "      <td>649926.0</td>\n",
              "      <td>216642.00</td>\n",
              "      <td>0.0</td>\n",
              "      <td>MACET</td>\n",
              "    </tr>\n",
              "    <tr>\n",
              "      <th>3</th>\n",
              "      <td>x4</td>\n",
              "      <td>P</td>\n",
              "      <td>2.0</td>\n",
              "      <td>459168.0</td>\n",
              "      <td>12</td>\n",
              "      <td>38264.00</td>\n",
              "      <td>100</td>\n",
              "      <td>301</td>\n",
              "      <td>6000.0</td>\n",
              "      <td>1</td>\n",
              "      <td>874</td>\n",
              "      <td>875</td>\n",
              "      <td>459168.0</td>\n",
              "      <td>382640.00</td>\n",
              "      <td>0.0</td>\n",
              "      <td>MACET</td>\n",
              "    </tr>\n",
              "    <tr>\n",
              "      <th>4</th>\n",
              "      <td>x5</td>\n",
              "      <td>P</td>\n",
              "      <td>34.0</td>\n",
              "      <td>3055499.0</td>\n",
              "      <td>8</td>\n",
              "      <td>381937.41</td>\n",
              "      <td>100</td>\n",
              "      <td>301</td>\n",
              "      <td>6000.0</td>\n",
              "      <td>1</td>\n",
              "      <td>874</td>\n",
              "      <td>875</td>\n",
              "      <td>3055499.0</td>\n",
              "      <td>1527749.48</td>\n",
              "      <td>0.0</td>\n",
              "      <td>MACET</td>\n",
              "    </tr>\n",
              "  </tbody>\n",
              "</table>\n",
              "</div>\n",
              "      <button class=\"colab-df-convert\" onclick=\"convertToInteractive('df-7e35a5ae-bff6-40d5-8890-56fb6bd5a4ff')\"\n",
              "              title=\"Convert this dataframe to an interactive table.\"\n",
              "              style=\"display:none;\">\n",
              "        \n",
              "  <svg xmlns=\"http://www.w3.org/2000/svg\" height=\"24px\"viewBox=\"0 0 24 24\"\n",
              "       width=\"24px\">\n",
              "    <path d=\"M0 0h24v24H0V0z\" fill=\"none\"/>\n",
              "    <path d=\"M18.56 5.44l.94 2.06.94-2.06 2.06-.94-2.06-.94-.94-2.06-.94 2.06-2.06.94zm-11 1L8.5 8.5l.94-2.06 2.06-.94-2.06-.94L8.5 2.5l-.94 2.06-2.06.94zm10 10l.94 2.06.94-2.06 2.06-.94-2.06-.94-.94-2.06-.94 2.06-2.06.94z\"/><path d=\"M17.41 7.96l-1.37-1.37c-.4-.4-.92-.59-1.43-.59-.52 0-1.04.2-1.43.59L10.3 9.45l-7.72 7.72c-.78.78-.78 2.05 0 2.83L4 21.41c.39.39.9.59 1.41.59.51 0 1.02-.2 1.41-.59l7.78-7.78 2.81-2.81c.8-.78.8-2.07 0-2.86zM5.41 20L4 18.59l7.72-7.72 1.47 1.35L5.41 20z\"/>\n",
              "  </svg>\n",
              "      </button>\n",
              "      \n",
              "  <style>\n",
              "    .colab-df-container {\n",
              "      display:flex;\n",
              "      flex-wrap:wrap;\n",
              "      gap: 12px;\n",
              "    }\n",
              "\n",
              "    .colab-df-convert {\n",
              "      background-color: #E8F0FE;\n",
              "      border: none;\n",
              "      border-radius: 50%;\n",
              "      cursor: pointer;\n",
              "      display: none;\n",
              "      fill: #1967D2;\n",
              "      height: 32px;\n",
              "      padding: 0 0 0 0;\n",
              "      width: 32px;\n",
              "    }\n",
              "\n",
              "    .colab-df-convert:hover {\n",
              "      background-color: #E2EBFA;\n",
              "      box-shadow: 0px 1px 2px rgba(60, 64, 67, 0.3), 0px 1px 3px 1px rgba(60, 64, 67, 0.15);\n",
              "      fill: #174EA6;\n",
              "    }\n",
              "\n",
              "    [theme=dark] .colab-df-convert {\n",
              "      background-color: #3B4455;\n",
              "      fill: #D2E3FC;\n",
              "    }\n",
              "\n",
              "    [theme=dark] .colab-df-convert:hover {\n",
              "      background-color: #434B5C;\n",
              "      box-shadow: 0px 1px 3px 1px rgba(0, 0, 0, 0.15);\n",
              "      filter: drop-shadow(0px 1px 2px rgba(0, 0, 0, 0.3));\n",
              "      fill: #FFFFFF;\n",
              "    }\n",
              "  </style>\n",
              "\n",
              "      <script>\n",
              "        const buttonEl =\n",
              "          document.querySelector('#df-7e35a5ae-bff6-40d5-8890-56fb6bd5a4ff button.colab-df-convert');\n",
              "        buttonEl.style.display =\n",
              "          google.colab.kernel.accessAllowed ? 'block' : 'none';\n",
              "\n",
              "        async function convertToInteractive(key) {\n",
              "          const element = document.querySelector('#df-7e35a5ae-bff6-40d5-8890-56fb6bd5a4ff');\n",
              "          const dataTable =\n",
              "            await google.colab.kernel.invokeFunction('convertToInteractive',\n",
              "                                                     [key], {});\n",
              "          if (!dataTable) return;\n",
              "\n",
              "          const docLinkHtml = 'Like what you see? Visit the ' +\n",
              "            '<a target=\"_blank\" href=https://colab.research.google.com/notebooks/data_table.ipynb>data table notebook</a>'\n",
              "            + ' to learn more about interactive tables.';\n",
              "          element.innerHTML = '';\n",
              "          dataTable['output_type'] = 'display_data';\n",
              "          await google.colab.output.renderOutput(dataTable, element);\n",
              "          const docLink = document.createElement('div');\n",
              "          docLink.innerHTML = docLinkHtml;\n",
              "          element.appendChild(docLink);\n",
              "        }\n",
              "      </script>\n",
              "    </div>\n",
              "  </div>\n",
              "  "
            ]
          },
          "metadata": {},
          "execution_count": 4
        }
      ]
    },
    {
      "cell_type": "code",
      "source": [
        "df.shape"
      ],
      "metadata": {
        "colab": {
          "base_uri": "https://localhost:8080/"
        },
        "id": "c7QCSaRDwodk",
        "outputId": "8b5732aa-5c16-4d13-a5e0-24b08ddaa303"
      },
      "execution_count": 5,
      "outputs": [
        {
          "output_type": "execute_result",
          "data": {
            "text/plain": [
              "(866, 16)"
            ]
          },
          "metadata": {},
          "execution_count": 5
        }
      ]
    },
    {
      "cell_type": "code",
      "source": [
        "df.columns"
      ],
      "metadata": {
        "colab": {
          "base_uri": "https://localhost:8080/"
        },
        "id": "G2WcEVxcwyEf",
        "outputId": "bb76c335-cad8-478a-d84b-8761fda3bf57"
      },
      "execution_count": 6,
      "outputs": [
        {
          "output_type": "execute_result",
          "data": {
            "text/plain": [
              "Index(['nama_nasabah', 'jenis_kelamin', 'umur', 'jml_pinjaman', 'jkw',\n",
              "       'jml_angsuran_per_bulan', 'type_pinjaman', 'jenis_pinjaman',\n",
              "       'bi_sektor_ekonomi', 'col', 'bi_golongan_debitur', 'bi_gol_penjamin',\n",
              "       'saldo_nominatif', 'tunggakan_pokok', 'tunggakan_bunga',\n",
              "       'status kredit'],\n",
              "      dtype='object')"
            ]
          },
          "metadata": {},
          "execution_count": 6
        }
      ]
    },
    {
      "cell_type": "code",
      "source": [
        "# evaluate a logistic regression model using k-fold cross-validation\n",
        "from numpy import mean\n",
        "from numpy import std\n",
        "from sklearn.datasets import make_classification\n",
        "from sklearn.model_selection import KFold\n",
        "from sklearn.model_selection import cross_val_score\n",
        "from sklearn.linear_model import LogisticRegression\n",
        "# create dataset\n",
        "X, y = make_classification(n_samples=866, n_features=20, n_informative=15, n_redundant=5, random_state=1)\n",
        "# prepare the cross-validation procedure\n",
        "cv = KFold(n_splits=10, random_state=1, shuffle=True)\n",
        "# create model\n",
        "model = LogisticRegression()\n",
        "# evaluate model\n",
        "scores = cross_val_score(model, X, y, scoring='accuracy', cv=cv, n_jobs=-1)\n",
        "# report performance\n",
        "print('Accuracy: %.3f (%.3f)' % (mean(scores), std(scores)))"
      ],
      "metadata": {
        "colab": {
          "base_uri": "https://localhost:8080/"
        },
        "id": "YLxbCpfKw8iZ",
        "outputId": "2313304f-a364-4361-bcd2-9ed51db5f548"
      },
      "execution_count": 7,
      "outputs": [
        {
          "output_type": "stream",
          "name": "stdout",
          "text": [
            "Accuracy: 0.850 (0.039)\n"
          ]
        }
      ]
    },
    {
      "cell_type": "code",
      "source": [
        "#contoh pustaka\n",
        "import numpy as np\n",
        "from sklearn.metrics import accuracy_score\n",
        "from sklearn.metrics import classification_report\n",
        "#data prediksi dan target\n",
        "target=[1,1,1,1,1,1,1,0,0,0,0,0,0]\n",
        "prediksi=[1,1,1,1,1,0,1,0,0,0,0,0,0]\n",
        "#mengetahui akurasi\n",
        "print(classification_report(target,prediksi))\n",
        "akurasi=accuracy_score(target,prediksi)\n",
        "print(\"akurasi:\",round (akurasi,2))"
      ],
      "metadata": {
        "colab": {
          "base_uri": "https://localhost:8080/"
        },
        "id": "KMzkm2S0zEar",
        "outputId": "48119042-0638-409f-fdeb-4e0888b99e07"
      },
      "execution_count": 10,
      "outputs": [
        {
          "output_type": "stream",
          "name": "stdout",
          "text": [
            "              precision    recall  f1-score   support\n",
            "\n",
            "           0       0.86      1.00      0.92         6\n",
            "           1       1.00      0.86      0.92         7\n",
            "\n",
            "    accuracy                           0.92        13\n",
            "   macro avg       0.93      0.93      0.92        13\n",
            "weighted avg       0.93      0.92      0.92        13\n",
            "\n",
            "akurasi: 0.92\n"
          ]
        }
      ]
    }
  ]
}